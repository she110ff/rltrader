
import pandas as pd


class Temp:
    def __init__(self):
